{
  "nbformat": 4,
  "nbformat_minor": 0,
  "metadata": {
    "colab": {
      "provenance": []
    },
    "kernelspec": {
      "name": "python3",
      "display_name": "Python 3"
    },
    "language_info": {
      "name": "python"
    }
  },
  "cells": [
    {
      "cell_type": "markdown",
      "source": [
        "# **Statistics Basics| Assignment**\n",
        "\n",
        "---\n",
        "\n"
      ],
      "metadata": {
        "id": "fpHDrugfTCTd"
      }
    },
    {
      "cell_type": "markdown",
      "source": [
        "Question 1: What is the difference between descriptive statistics and inferential statistics? Explain with examples.\n",
        "\n",
        "Answer:\n",
        "\n",
        "  - Descriptive statistics summarize and organize characteristics of a data set. They provide simple summaries about the sample and measures such as mean, median, mode, range, and standard deviation. For example, if a teacher calculates the average score of a class test, this is descriptive.\n",
        "\n",
        "  - Inferential statistics, on the other hand, use a sample of data to make inferences or generalizations about a population. It includes hypothesis testing, confidence intervals, and regression analysis. For instance, using a sample of voters to predict the outcome of an election is inferential."
      ],
      "metadata": {
        "id": "qLzBM4a2TChC"
      }
    },
    {
      "cell_type": "markdown",
      "source": [
        "Question 2: What is sampling in statistics? Explain the differences between random and stratified sampling.\n",
        "\n",
        "Answer:\n",
        "    \n",
        "  - Sampling is the process of selecting a subset of individuals from a population to estimate characteristics of the whole population.\n",
        "\n",
        "      - Random Sampling: Each member of the population has an equal chance of being selected. It’s simple and reduces bias.\n",
        "\n",
        "      - Stratified Sampling: The population is divided into subgroups (strata) based on specific characteristics, and samples are drawn from each strata proportionally. This ensures representation from all key groups."
      ],
      "metadata": {
        "id": "rESvApsATCrV"
      }
    },
    {
      "cell_type": "markdown",
      "source": [
        "Question 3: Define mean, median, and mode. Explain why these measures of central tendency are important.\n",
        "\n",
        "Answer:\n",
        "\n",
        "  - Mean: The average of all values.\n",
        "\n",
        "  - Median: The middle value when data is ordered.\n",
        "\n",
        "  - Mode: The most frequently occurring value.\n",
        "\n",
        "These measures are essential to understand the center point and distribution of the data. They help summarize large data sets with a single value representing a typical case."
      ],
      "metadata": {
        "id": "_I1ouUkSTC0d"
      }
    },
    {
      "cell_type": "markdown",
      "source": [
        "Question 4: Explain skewness and kurtosis. What does a positive skew imply about the data?\n",
        "\n",
        "  Answer:\n",
        "\n",
        "  - Skewness indicates the asymmetry of a data distribution. A positive skew means the tail on the right side is longer; most values are concentrated on the left.\n",
        "\n",
        "  - Kurtosis measures the \"tailedness\" of the distribution. High kurtosis means more outliers; low kurtosis means fewer outliers.\n",
        "\n",
        "A positive skew implies that the data has a longer tail on the right and possibly extreme high values."
      ],
      "metadata": {
        "id": "Vi93qg7vTC5K"
      }
    },
    {
      "cell_type": "markdown",
      "source": [
        "Question 5: Implement a Python program to compute the mean, median, and mode of a given list of numbers.\n",
        "\n",
        "numbers = [12, 15, 12, 18, 19, 12, 20, 22, 19, 19, 24, 24, 24, 26, 28]"
      ],
      "metadata": {
        "id": "R4NWpJQTTC7q"
      }
    },
    {
      "cell_type": "code",
      "source": [
        "import numpy as np\n",
        "import statistics as stats\n",
        "numbers = [12, 15, 12, 18, 19, 12, 20, 22, 19, 19, 24, 24, 24, 26, 28]\n",
        "mean_val = np.mean(numbers)\n",
        "median_val = np.median(numbers)\n",
        "mode_val = stats.mode(numbers)\n",
        "print(\"Mean:\", mean_val)\n",
        "print(\"Median:\", median_val)\n",
        "print(\"Mode:\", mode_val)"
      ],
      "metadata": {
        "colab": {
          "base_uri": "https://localhost:8080/"
        },
        "id": "OED7mc_FUXbh",
        "outputId": "ceb3d0b0-eedc-4341-e9d9-7739a517f172"
      },
      "execution_count": 1,
      "outputs": [
        {
          "output_type": "stream",
          "name": "stdout",
          "text": [
            "Mean: 19.6\n",
            "Median: 19.0\n",
            "Mode: 12\n"
          ]
        }
      ]
    },
    {
      "cell_type": "markdown",
      "source": [
        "Question 6: Compute the covariance and correlation coefficient between the following two datasets provided as lists in Python:\n",
        "\n",
        "list_x = [10, 20, 30, 40, 50]\n",
        "\n",
        "list_y = [15, 25, 35, 45, 60]"
      ],
      "metadata": {
        "id": "qK8xprJQTC-Q"
      }
    },
    {
      "cell_type": "code",
      "source": [
        "import numpy as np\n",
        "list_x = [10, 20, 30, 40, 50]\n",
        "list_y = [15, 25, 35, 45, 60]\n",
        "cov_matrix = np.cov(list_x, list_y, ddof=0)\n",
        "covariance = cov_matrix[0, 1]\n",
        "correlation = np.corrcoef(list_x, list_y)[0, 1]\n",
        "print(\"Covariance:\", covariance)\n",
        "print(\"Correlation Coefficient:\", correlation)"
      ],
      "metadata": {
        "colab": {
          "base_uri": "https://localhost:8080/"
        },
        "id": "AZPmgAivUm7M",
        "outputId": "2adffc12-0475-4bf8-8008-dd53717a6b54"
      },
      "execution_count": 2,
      "outputs": [
        {
          "output_type": "stream",
          "name": "stdout",
          "text": [
            "Covariance: 220.0\n",
            "Correlation Coefficient: 0.995893206467704\n"
          ]
        }
      ]
    },
    {
      "cell_type": "markdown",
      "source": [
        "Question 7: Write a Python script to draw a boxplot for the following numeric list and identify its outliers. Explain the result:\n",
        "\n",
        "data = [12, 14, 14, 15, 18, 19, 19, 21, 22, 22, 23, 23, 24, 26, 29, 35]"
      ],
      "metadata": {
        "id": "wxGghksQTDBX"
      }
    },
    {
      "cell_type": "code",
      "source": [
        "import matplotlib.pyplot as plt\n",
        "import seaborn as sns\n",
        "data = [12, 14, 14, 15, 18, 19, 19, 21, 22, 22, 23, 23, 24, 26, 29, 35]\n",
        "sns.boxplot(x=data)\n",
        "plt.title(\"Boxplot\")\n",
        "plt.show()"
      ],
      "metadata": {
        "colab": {
          "base_uri": "https://localhost:8080/",
          "height": 452
        },
        "id": "Tk2F3CLbU2WA",
        "outputId": "c668a4d5-bdc0-45cb-c63c-3e6c52b8effa"
      },
      "execution_count": 3,
      "outputs": [
        {
          "output_type": "display_data",
          "data": {
            "text/plain": [
              "<Figure size 640x480 with 1 Axes>"
            ],
            "image/png": "[encoded data removed]"
          },
          "metadata": {}
        }
      ]
    },
    {
      "cell_type": "markdown",
      "source": [
        "Question 8: You are working as a data analyst in an e-commerce company. The marketing team wants to know if there is a relationship between advertising spend and daily sales.\n",
        "\n",
        "● Explain how you would use covariance and correlation to explore this relationship.\n",
        "\n",
        "● Write Python code to compute the correlation between the two lists:\n",
        "\n",
        "advertising_spend = [200, 250, 300, 400, 500]\n",
        "\n",
        "daily_sales = [2200, 2450, 2750, 3200, 4000]\n",
        "\n",
        "Answer\n",
        "\n",
        "  - To explore the relationship between advertising spend and daily sales, we can use:\n",
        "\n",
        "      - Covariance: It measures the directional relationship between the two variables. A positive covariance indicates that as advertising spend increases, daily sales also tend to increase. However, it does not tell us how strong the relationship is.\n",
        "\n",
        "      -Correlation: It measures both strength and direction of the relationship. The correlation coefficient ranges between -1 and 1. A value close to 1 indicates a strong positive relationship, 0 indicates no relationship, and -1 indicates a strong negative relationship.\n",
        "\n",
        "If both covariance and correlation are positive and high, it suggests a meaningful association: more ad spend likely leads to more sales.\n"
      ],
      "metadata": {
        "id": "13obItIPVBJX"
      }
    },
    {
      "cell_type": "code",
      "source": [
        "import numpy as np\n",
        "\n",
        "# Data\n",
        "advertising_spend = [200, 250, 300, 400, 500]\n",
        "daily_sales = [2200, 2450, 2750, 3200, 4000]\n",
        "\n",
        "# Covariance\n",
        "cov_matrix = np.cov(advertising_spend, daily_sales, ddof=0)\n",
        "covariance = cov_matrix[0, 1]\n",
        "\n",
        "# Correlation\n",
        "correlation = np.corrcoef(advertising_spend, daily_sales)[0, 1]\n",
        "\n",
        "print(\"Covariance:\", covariance)\n",
        "print(\"Correlation:\", correlation)"
      ],
      "metadata": {
        "colab": {
          "base_uri": "https://localhost:8080/"
        },
        "id": "bNubDHPsVOYr",
        "outputId": "8468417a-7868-4ef0-b03a-9b738defa37a"
      },
      "execution_count": 6,
      "outputs": [
        {
          "output_type": "stream",
          "name": "stdout",
          "text": [
            "Covariance: 67900.0\n",
            "Correlation: 0.9935824101653329\n"
          ]
        }
      ]
    },
    {
      "cell_type": "markdown",
      "source": [
        "Question 9: Your team has collected customer satisfaction survey data on a scale of 1-10 and wants to understand its distribution before launching a new product.\n",
        "\n",
        "● Explain which summary statistics and visualizations (e.g. mean, standard deviation, histogram) you’d use.\n",
        "\n",
        "● Write Python code to create a histogram using Matplotlib for the survey data:\n",
        "\n",
        "Answer\n",
        "\n",
        "  - To understand the distribution of customer satisfaction scores (scale 1–10), I would use:\n",
        "\n",
        "      - Mean: The average score.\n",
        "\n",
        "      - Median: Middle value of the data.\n",
        "\n",
        "      - Mode: Most frequent score.\n",
        "\n",
        "      - Standard Deviation: To measure variation in satisfaction.\n",
        "\n",
        "      - Histogram: To visualize score distribution.\n",
        "\n",
        "      - Boxplot (optional): To spot outliers and spread.\n",
        "\n",
        "These help assess general sentiment and identify patterns or concerns before launching the new product.\n"
      ],
      "metadata": {
        "id": "rt5REtpFVA7D"
      }
    },
    {
      "cell_type": "code",
      "source": [
        "import numpy as np\n",
        "import matplotlib.pyplot as plt\n",
        "import statistics as stats\n",
        "\n",
        "# Survey Data\n",
        "survey_scores = [7, 8, 5, 9, 6, 7, 8, 9, 10, 4, 7, 6, 9, 8, 7]\n",
        "\n",
        "# Summary Statistics\n",
        "mean_val = np.mean(survey_scores)\n",
        "median_val = np.median(survey_scores)\n",
        "std_dev = np.std(survey_scores)\n",
        "mode_val = stats.mode(survey_scores)\n",
        "\n",
        "print(\"Mean:\", mean_val)\n",
        "print(\"Median:\", median_val)\n",
        "print(\"Standard Deviation:\", std_dev)\n",
        "print(\"Mode:\", mode_val)\n",
        "\n",
        "# Histogram Plot\n",
        "plt.figure(figsize=(6, 4))\n",
        "plt.hist(survey_scores, bins=6, edgecolor='black')\n",
        "plt.title(\"Histogram of Customer Satisfaction Scores\")\n",
        "plt.xlabel(\"Score\")\n",
        "plt.ylabel(\"Frequency\")\n",
        "plt.grid(True)\n",
        "plt.tight_layout()\n",
        "plt.show()"
      ],
      "metadata": {
        "colab": {
          "base_uri": "https://localhost:8080/",
          "height": 476
        },
        "id": "kSjm1VIQVdOj",
        "outputId": "16796954-e9a3-46bf-b4bb-d7baca9a780c"
      },
      "execution_count": 7,
      "outputs": [
        {
          "output_type": "stream",
          "name": "stdout",
          "text": [
            "Mean: 7.333333333333333\n",
            "Median: 7.0\n",
            "Standard Deviation: 1.577621275493231\n",
            "Mode: 7\n"
          ]
        },
        {
          "output_type": "display_data",
          "data": {
            "text/plain": [
              "<Figure size 600x400 with 1 Axes>"
            ],
            "image/png": "[encoded data removed]"
          },
          "metadata": {}
        }
      ]
    },
    {
      "cell_type": "code",
      "source": [],
      "metadata": {
        "id": "tlMlTo7_W6pi"
      },
      "execution_count": null,
      "outputs": []
    }
  ]
}